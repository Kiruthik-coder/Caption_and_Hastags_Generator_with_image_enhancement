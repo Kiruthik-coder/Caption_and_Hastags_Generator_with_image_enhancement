{
 "cells": [
  {
   "cell_type": "code",
   "execution_count": 3,
   "id": "11e2814b-49f2-4378-a720-a6b43b169dc5",
   "metadata": {},
   "outputs": [],
   "source": [
    "import numpy as np\n",
    "import pandas as pd"
   ]
  },
  {
   "cell_type": "code",
   "execution_count": 4,
   "id": "14207f7c-1809-4025-8cab-fce3dec1e96f",
   "metadata": {},
   "outputs": [
    {
     "name": "stdout",
     "output_type": "stream",
     "text": [
      "          0         1         2         3\n",
      "0 -0.156567  0.994519  0.447663 -1.366143\n",
      "1  0.320103 -0.216588  1.627619 -1.062755\n",
      "2 -0.430991 -1.539269 -0.971739 -1.549116\n",
      "3  0.663524  1.239232 -1.103195  0.842708\n"
     ]
    }
   ],
   "source": [
    "# Task-1 pandas dataframe (DataFrame name as 'df') with numpy random values (4 features and 4 observation)\n",
    "df = pd.DataFrame(np.random.randn(4, 4))\n",
    "print(df)"
   ]
  },
  {
   "cell_type": "code",
   "execution_count": 7,
   "id": "cfddb23b-e10e-40ba-a79e-4d972bd28784",
   "metadata": {},
   "outputs": [
    {
     "name": "stdout",
     "output_type": "stream",
     "text": [
      "   Random value 1  Random value 2  Random value 3  Random value 4\n",
      "0       -0.156567        0.994519        0.447663       -1.366143\n",
      "1        0.320103       -0.216588        1.627619       -1.062755\n",
      "2       -0.430991       -1.539269       -0.971739       -1.549116\n",
      "3        0.663524        1.239232       -1.103195        0.842708\n"
     ]
    }
   ],
   "source": [
    "# Task-2 Rename the task - 1 'df' dataframe column names to 'Random value 1', 'Random value 2', 'Random value 3' & 'Random value 4'\n",
    "df.columns = ['Random value 1', 'Random value 2', 'Random value 3', 'Random value 4']\n",
    "print(df)"
   ]
  },
  {
   "cell_type": "code",
   "execution_count": 9,
   "id": "a389a4d5-95ab-45e3-8818-9fc1aa89dc3d",
   "metadata": {},
   "outputs": [
    {
     "data": {
      "text/html": [
       "<div>\n",
       "<style scoped>\n",
       "    .dataframe tbody tr th:only-of-type {\n",
       "        vertical-align: middle;\n",
       "    }\n",
       "\n",
       "    .dataframe tbody tr th {\n",
       "        vertical-align: top;\n",
       "    }\n",
       "\n",
       "    .dataframe thead th {\n",
       "        text-align: right;\n",
       "    }\n",
       "</style>\n",
       "<table border=\"1\" class=\"dataframe\">\n",
       "  <thead>\n",
       "    <tr style=\"text-align: right;\">\n",
       "      <th></th>\n",
       "      <th>Random value 1</th>\n",
       "      <th>Random value 2</th>\n",
       "      <th>Random value 3</th>\n",
       "      <th>Random value 4</th>\n",
       "    </tr>\n",
       "  </thead>\n",
       "  <tbody>\n",
       "    <tr>\n",
       "      <th>count</th>\n",
       "      <td>4.000000</td>\n",
       "      <td>4.000000</td>\n",
       "      <td>4.000000</td>\n",
       "      <td>4.000000</td>\n",
       "    </tr>\n",
       "    <tr>\n",
       "      <th>mean</th>\n",
       "      <td>0.099017</td>\n",
       "      <td>0.119474</td>\n",
       "      <td>0.000087</td>\n",
       "      <td>-0.783826</td>\n",
       "    </tr>\n",
       "    <tr>\n",
       "      <th>std</th>\n",
       "      <td>0.487777</td>\n",
       "      <td>1.275922</td>\n",
       "      <td>1.292396</td>\n",
       "      <td>1.102751</td>\n",
       "    </tr>\n",
       "    <tr>\n",
       "      <th>min</th>\n",
       "      <td>-0.430991</td>\n",
       "      <td>-1.539269</td>\n",
       "      <td>-1.103195</td>\n",
       "      <td>-1.549116</td>\n",
       "    </tr>\n",
       "    <tr>\n",
       "      <th>25%</th>\n",
       "      <td>-0.225173</td>\n",
       "      <td>-0.547258</td>\n",
       "      <td>-1.004603</td>\n",
       "      <td>-1.411886</td>\n",
       "    </tr>\n",
       "    <tr>\n",
       "      <th>50%</th>\n",
       "      <td>0.081768</td>\n",
       "      <td>0.388966</td>\n",
       "      <td>-0.262038</td>\n",
       "      <td>-1.214449</td>\n",
       "    </tr>\n",
       "    <tr>\n",
       "      <th>75%</th>\n",
       "      <td>0.405959</td>\n",
       "      <td>1.055697</td>\n",
       "      <td>0.742652</td>\n",
       "      <td>-0.586389</td>\n",
       "    </tr>\n",
       "    <tr>\n",
       "      <th>max</th>\n",
       "      <td>0.663524</td>\n",
       "      <td>1.239232</td>\n",
       "      <td>1.627619</td>\n",
       "      <td>0.842708</td>\n",
       "    </tr>\n",
       "  </tbody>\n",
       "</table>\n",
       "</div>"
      ],
      "text/plain": [
       "       Random value 1  Random value 2  Random value 3  Random value 4\n",
       "count        4.000000        4.000000        4.000000        4.000000\n",
       "mean         0.099017        0.119474        0.000087       -0.783826\n",
       "std          0.487777        1.275922        1.292396        1.102751\n",
       "min         -0.430991       -1.539269       -1.103195       -1.549116\n",
       "25%         -0.225173       -0.547258       -1.004603       -1.411886\n",
       "50%          0.081768        0.388966       -0.262038       -1.214449\n",
       "75%          0.405959        1.055697        0.742652       -0.586389\n",
       "max          0.663524        1.239232        1.627619        0.842708"
      ]
     },
     "execution_count": 10,
     "metadata": {},
     "output_type": "execute_result"
    }
   ],
   "source": [
    "# Task-3 Find the descriptive statistics of the 'df' dataframe.\n",
    "df.describe()"
   ]
  },
  {
   "cell_type": "code",
   "execution_count": 11,
   "id": "306dfce0-5153-4f8a-9600-461b4577907e",
   "metadata": {},
   "outputs": [
    {
     "data": {
      "text/html": [
       "<div>\n",
       "<style scoped>\n",
       "    .dataframe tbody tr th:only-of-type {\n",
       "        vertical-align: middle;\n",
       "    }\n",
       "\n",
       "    .dataframe tbody tr th {\n",
       "        vertical-align: top;\n",
       "    }\n",
       "\n",
       "    .dataframe thead th {\n",
       "        text-align: right;\n",
       "    }\n",
       "</style>\n",
       "<table border=\"1\" class=\"dataframe\">\n",
       "  <thead>\n",
       "    <tr style=\"text-align: right;\">\n",
       "      <th></th>\n",
       "      <th>Random value 1</th>\n",
       "      <th>Random value 2</th>\n",
       "      <th>Random value 3</th>\n",
       "      <th>Random value 4</th>\n",
       "    </tr>\n",
       "  </thead>\n",
       "  <tbody>\n",
       "    <tr>\n",
       "      <th>count</th>\n",
       "      <td>4.000000</td>\n",
       "      <td>4.000000</td>\n",
       "      <td>4.000000</td>\n",
       "      <td>4.000000</td>\n",
       "    </tr>\n",
       "    <tr>\n",
       "      <th>mean</th>\n",
       "      <td>0.099017</td>\n",
       "      <td>0.119474</td>\n",
       "      <td>0.000087</td>\n",
       "      <td>-0.783826</td>\n",
       "    </tr>\n",
       "    <tr>\n",
       "      <th>std</th>\n",
       "      <td>0.487777</td>\n",
       "      <td>1.275922</td>\n",
       "      <td>1.292396</td>\n",
       "      <td>1.102751</td>\n",
       "    </tr>\n",
       "    <tr>\n",
       "      <th>min</th>\n",
       "      <td>-0.430991</td>\n",
       "      <td>-1.539269</td>\n",
       "      <td>-1.103195</td>\n",
       "      <td>-1.549116</td>\n",
       "    </tr>\n",
       "    <tr>\n",
       "      <th>25%</th>\n",
       "      <td>-0.225173</td>\n",
       "      <td>-0.547258</td>\n",
       "      <td>-1.004603</td>\n",
       "      <td>-1.411886</td>\n",
       "    </tr>\n",
       "    <tr>\n",
       "      <th>50%</th>\n",
       "      <td>0.081768</td>\n",
       "      <td>0.388966</td>\n",
       "      <td>-0.262038</td>\n",
       "      <td>-1.214449</td>\n",
       "    </tr>\n",
       "    <tr>\n",
       "      <th>75%</th>\n",
       "      <td>0.405959</td>\n",
       "      <td>1.055697</td>\n",
       "      <td>0.742652</td>\n",
       "      <td>-0.586389</td>\n",
       "    </tr>\n",
       "    <tr>\n",
       "      <th>max</th>\n",
       "      <td>0.663524</td>\n",
       "      <td>1.239232</td>\n",
       "      <td>1.627619</td>\n",
       "      <td>0.842708</td>\n",
       "    </tr>\n",
       "  </tbody>\n",
       "</table>\n",
       "</div>"
      ],
      "text/plain": [
       "       Random value 1  Random value 2  Random value 3  Random value 4\n",
       "count        4.000000        4.000000        4.000000        4.000000\n",
       "mean         0.099017        0.119474        0.000087       -0.783826\n",
       "std          0.487777        1.275922        1.292396        1.102751\n",
       "min         -0.430991       -1.539269       -1.103195       -1.549116\n",
       "25%         -0.225173       -0.547258       -1.004603       -1.411886\n",
       "50%          0.081768        0.388966       -0.262038       -1.214449\n",
       "75%          0.405959        1.055697        0.742652       -0.586389\n",
       "max          0.663524        1.239232        1.627619        0.842708"
      ]
     },
     "execution_count": 11,
     "metadata": {},
     "output_type": "execute_result"
    }
   ],
   "source": [
    "# Including ALL\n",
    "df.describe(include='all')"
   ]
  },
  {
   "cell_type": "code",
   "execution_count": 15,
   "id": "1fd8fdf6-4d13-4ab3-86d2-f584c2cc8c94",
   "metadata": {},
   "outputs": [
    {
     "data": {
      "text/html": [
       "<div>\n",
       "<style scoped>\n",
       "    .dataframe tbody tr th:only-of-type {\n",
       "        vertical-align: middle;\n",
       "    }\n",
       "\n",
       "    .dataframe tbody tr th {\n",
       "        vertical-align: top;\n",
       "    }\n",
       "\n",
       "    .dataframe thead th {\n",
       "        text-align: right;\n",
       "    }\n",
       "</style>\n",
       "<table border=\"1\" class=\"dataframe\">\n",
       "  <thead>\n",
       "    <tr style=\"text-align: right;\">\n",
       "      <th></th>\n",
       "      <th>Random value 1</th>\n",
       "      <th>Random value 2</th>\n",
       "      <th>Random value 3</th>\n",
       "      <th>Random value 4</th>\n",
       "    </tr>\n",
       "  </thead>\n",
       "  <tbody>\n",
       "    <tr>\n",
       "      <th>0</th>\n",
       "      <td>False</td>\n",
       "      <td>False</td>\n",
       "      <td>False</td>\n",
       "      <td>False</td>\n",
       "    </tr>\n",
       "    <tr>\n",
       "      <th>1</th>\n",
       "      <td>False</td>\n",
       "      <td>False</td>\n",
       "      <td>False</td>\n",
       "      <td>False</td>\n",
       "    </tr>\n",
       "    <tr>\n",
       "      <th>2</th>\n",
       "      <td>False</td>\n",
       "      <td>False</td>\n",
       "      <td>False</td>\n",
       "      <td>False</td>\n",
       "    </tr>\n",
       "    <tr>\n",
       "      <th>3</th>\n",
       "      <td>False</td>\n",
       "      <td>False</td>\n",
       "      <td>False</td>\n",
       "      <td>False</td>\n",
       "    </tr>\n",
       "  </tbody>\n",
       "</table>\n",
       "</div>"
      ],
      "text/plain": [
       "   Random value 1  Random value 2  Random value 3  Random value 4\n",
       "0           False           False           False           False\n",
       "1           False           False           False           False\n",
       "2           False           False           False           False\n",
       "3           False           False           False           False"
      ]
     },
     "execution_count": 15,
     "metadata": {},
     "output_type": "execute_result"
    }
   ],
   "source": [
    "# Task-4 a) Check for the null values in 'df'\n",
    "df.isnull()"
   ]
  },
  {
   "cell_type": "code",
   "execution_count": 16,
   "id": "7723282d-0c97-4f61-8722-807e18defdca",
   "metadata": {},
   "outputs": [
    {
     "name": "stdout",
     "output_type": "stream",
     "text": [
      "<class 'pandas.core.frame.DataFrame'>\n",
      "RangeIndex: 4 entries, 0 to 3\n",
      "Data columns (total 4 columns):\n",
      " #   Column          Non-Null Count  Dtype  \n",
      "---  ------          --------------  -----  \n",
      " 0   Random value 1  4 non-null      float64\n",
      " 1   Random value 2  4 non-null      float64\n",
      " 2   Random value 3  4 non-null      float64\n",
      " 3   Random value 4  4 non-null      float64\n",
      "dtypes: float64(4)\n",
      "memory usage: 256.0 bytes\n"
     ]
    }
   ],
   "source": [
    "# b) find the data type of the columns\n",
    "df.info()"
   ]
  },
  {
   "cell_type": "code",
   "execution_count": 18,
   "id": "b66fc38f-85e9-4c90-9045-de4a33b06e9b",
   "metadata": {},
   "outputs": [
    {
     "data": {
      "text/html": [
       "<div>\n",
       "<style scoped>\n",
       "    .dataframe tbody tr th:only-of-type {\n",
       "        vertical-align: middle;\n",
       "    }\n",
       "\n",
       "    .dataframe tbody tr th {\n",
       "        vertical-align: top;\n",
       "    }\n",
       "\n",
       "    .dataframe thead th {\n",
       "        text-align: right;\n",
       "    }\n",
       "</style>\n",
       "<table border=\"1\" class=\"dataframe\">\n",
       "  <thead>\n",
       "    <tr style=\"text-align: right;\">\n",
       "      <th></th>\n",
       "      <th>Random value 2</th>\n",
       "      <th>Random value 3</th>\n",
       "    </tr>\n",
       "  </thead>\n",
       "  <tbody>\n",
       "    <tr>\n",
       "      <th>0</th>\n",
       "      <td>0.994519</td>\n",
       "      <td>0.447663</td>\n",
       "    </tr>\n",
       "    <tr>\n",
       "      <th>1</th>\n",
       "      <td>-0.216588</td>\n",
       "      <td>1.627619</td>\n",
       "    </tr>\n",
       "    <tr>\n",
       "      <th>2</th>\n",
       "      <td>-1.539269</td>\n",
       "      <td>-0.971739</td>\n",
       "    </tr>\n",
       "    <tr>\n",
       "      <th>3</th>\n",
       "      <td>1.239232</td>\n",
       "      <td>-1.103195</td>\n",
       "    </tr>\n",
       "  </tbody>\n",
       "</table>\n",
       "</div>"
      ],
      "text/plain": [
       "   Random value 2  Random value 3\n",
       "0        0.994519        0.447663\n",
       "1       -0.216588        1.627619\n",
       "2       -1.539269       -0.971739\n",
       "3        1.239232       -1.103195"
      ]
     },
     "execution_count": 18,
     "metadata": {},
     "output_type": "execute_result"
    }
   ],
   "source": [
    "# Task-5 Display the 'Random value 2' & 'Random value 3' columns  location method \n",
    "df.loc[:, ['Random value 2', 'Random value 3']]"
   ]
  },
  {
   "cell_type": "code",
   "execution_count": 19,
   "id": "8c9224e3-ae57-4ae1-922d-1f6f2f32d1fa",
   "metadata": {},
   "outputs": [
    {
     "data": {
      "text/html": [
       "<div>\n",
       "<style scoped>\n",
       "    .dataframe tbody tr th:only-of-type {\n",
       "        vertical-align: middle;\n",
       "    }\n",
       "\n",
       "    .dataframe tbody tr th {\n",
       "        vertical-align: top;\n",
       "    }\n",
       "\n",
       "    .dataframe thead th {\n",
       "        text-align: right;\n",
       "    }\n",
       "</style>\n",
       "<table border=\"1\" class=\"dataframe\">\n",
       "  <thead>\n",
       "    <tr style=\"text-align: right;\">\n",
       "      <th></th>\n",
       "      <th>Random value 2</th>\n",
       "      <th>Random value 3</th>\n",
       "    </tr>\n",
       "  </thead>\n",
       "  <tbody>\n",
       "    <tr>\n",
       "      <th>0</th>\n",
       "      <td>0.994519</td>\n",
       "      <td>0.447663</td>\n",
       "    </tr>\n",
       "    <tr>\n",
       "      <th>1</th>\n",
       "      <td>-0.216588</td>\n",
       "      <td>1.627619</td>\n",
       "    </tr>\n",
       "    <tr>\n",
       "      <th>2</th>\n",
       "      <td>-1.539269</td>\n",
       "      <td>-0.971739</td>\n",
       "    </tr>\n",
       "    <tr>\n",
       "      <th>3</th>\n",
       "      <td>1.239232</td>\n",
       "      <td>-1.103195</td>\n",
       "    </tr>\n",
       "  </tbody>\n",
       "</table>\n",
       "</div>"
      ],
      "text/plain": [
       "   Random value 2  Random value 3\n",
       "0        0.994519        0.447663\n",
       "1       -0.216588        1.627619\n",
       "2       -1.539269       -0.971739\n",
       "3        1.239232       -1.103195"
      ]
     },
     "execution_count": 19,
     "metadata": {},
     "output_type": "execute_result"
    }
   ],
   "source": [
    "# index location method.\n",
    "df.iloc[:, [1, 2]]"
   ]
  },
  {
   "cell_type": "code",
   "execution_count": null,
   "id": "ec179bbf-4c3f-49a4-9129-ebb7ad701707",
   "metadata": {},
   "outputs": [],
   "source": [
    "#end - 20MIS0321"
   ]
  }
 ],
 "metadata": {
  "kernelspec": {
   "display_name": "Python 3 (ipykernel)",
   "language": "python",
   "name": "python3"
  },
  "language_info": {
   "codemirror_mode": {
    "name": "ipython",
    "version": 3
   },
   "file_extension": ".py",
   "mimetype": "text/x-python",
   "name": "python",
   "nbconvert_exporter": "python",
   "pygments_lexer": "ipython3",
   "version": "3.10.11"
  }
 },
 "nbformat": 4,
 "nbformat_minor": 5
}

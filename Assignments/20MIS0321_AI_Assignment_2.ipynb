{
 "cells": [
  {
   "cell_type": "code",
   "execution_count": 283,
   "id": "849368f3-350c-47e2-8edf-16b386506bd5",
   "metadata": {},
   "outputs": [],
   "source": [
    "#20MIS0321 Assignment 2"
   ]
  },
  {
   "cell_type": "code",
   "execution_count": 284,
   "id": "27a4cf6e-9958-422d-a40a-8c9a5394aa35",
   "metadata": {},
   "outputs": [],
   "source": [
    "import numpy as np\n",
    "import pandas as pd\n",
    "import matplotlib as plt\n",
    "from tensorflow import keras\n",
    "from sklearn.model_selection import train_test_split\n",
    "from sklearn.preprocessing import StandardScaler\n",
    "from tensorflow.keras.models import Sequential\n",
    "from tensorflow.keras.layers import Dense\n",
    "from sklearn.preprocessing import LabelEncoder\n",
    "from sklearn.preprocessing import StandardScaler"
   ]
  },
  {
   "cell_type": "code",
   "execution_count": 285,
   "id": "a6e2169a-77fc-4c3c-a61c-33fc9efed209",
   "metadata": {},
   "outputs": [],
   "source": [
    "# reading the dataset from a csv file and storing in a variable\n",
    "\n",
    "df = pd.read_csv('drug200.csv')\n"
   ]
  },
  {
   "cell_type": "code",
   "execution_count": 286,
   "id": "f7c9d32a-a735-4325-aaca-85bca2a642f2",
   "metadata": {},
   "outputs": [
    {
     "data": {
      "text/html": [
       "<div>\n",
       "<style scoped>\n",
       "    .dataframe tbody tr th:only-of-type {\n",
       "        vertical-align: middle;\n",
       "    }\n",
       "\n",
       "    .dataframe tbody tr th {\n",
       "        vertical-align: top;\n",
       "    }\n",
       "\n",
       "    .dataframe thead th {\n",
       "        text-align: right;\n",
       "    }\n",
       "</style>\n",
       "<table border=\"1\" class=\"dataframe\">\n",
       "  <thead>\n",
       "    <tr style=\"text-align: right;\">\n",
       "      <th></th>\n",
       "      <th>Age</th>\n",
       "      <th>Sex</th>\n",
       "      <th>BP</th>\n",
       "      <th>Cholesterol</th>\n",
       "      <th>Na_to_K</th>\n",
       "      <th>Drug</th>\n",
       "    </tr>\n",
       "  </thead>\n",
       "  <tbody>\n",
       "    <tr>\n",
       "      <th>0</th>\n",
       "      <td>23</td>\n",
       "      <td>F</td>\n",
       "      <td>HIGH</td>\n",
       "      <td>HIGH</td>\n",
       "      <td>25.355</td>\n",
       "      <td>DrugY</td>\n",
       "    </tr>\n",
       "    <tr>\n",
       "      <th>1</th>\n",
       "      <td>47</td>\n",
       "      <td>M</td>\n",
       "      <td>LOW</td>\n",
       "      <td>HIGH</td>\n",
       "      <td>13.093</td>\n",
       "      <td>drugC</td>\n",
       "    </tr>\n",
       "    <tr>\n",
       "      <th>2</th>\n",
       "      <td>47</td>\n",
       "      <td>M</td>\n",
       "      <td>LOW</td>\n",
       "      <td>HIGH</td>\n",
       "      <td>10.114</td>\n",
       "      <td>drugC</td>\n",
       "    </tr>\n",
       "    <tr>\n",
       "      <th>3</th>\n",
       "      <td>28</td>\n",
       "      <td>F</td>\n",
       "      <td>NORMAL</td>\n",
       "      <td>HIGH</td>\n",
       "      <td>7.798</td>\n",
       "      <td>drugX</td>\n",
       "    </tr>\n",
       "    <tr>\n",
       "      <th>4</th>\n",
       "      <td>61</td>\n",
       "      <td>F</td>\n",
       "      <td>LOW</td>\n",
       "      <td>HIGH</td>\n",
       "      <td>18.043</td>\n",
       "      <td>DrugY</td>\n",
       "    </tr>\n",
       "    <tr>\n",
       "      <th>...</th>\n",
       "      <td>...</td>\n",
       "      <td>...</td>\n",
       "      <td>...</td>\n",
       "      <td>...</td>\n",
       "      <td>...</td>\n",
       "      <td>...</td>\n",
       "    </tr>\n",
       "    <tr>\n",
       "      <th>195</th>\n",
       "      <td>56</td>\n",
       "      <td>F</td>\n",
       "      <td>LOW</td>\n",
       "      <td>HIGH</td>\n",
       "      <td>11.567</td>\n",
       "      <td>drugC</td>\n",
       "    </tr>\n",
       "    <tr>\n",
       "      <th>196</th>\n",
       "      <td>16</td>\n",
       "      <td>M</td>\n",
       "      <td>LOW</td>\n",
       "      <td>HIGH</td>\n",
       "      <td>12.006</td>\n",
       "      <td>drugC</td>\n",
       "    </tr>\n",
       "    <tr>\n",
       "      <th>197</th>\n",
       "      <td>52</td>\n",
       "      <td>M</td>\n",
       "      <td>NORMAL</td>\n",
       "      <td>HIGH</td>\n",
       "      <td>9.894</td>\n",
       "      <td>drugX</td>\n",
       "    </tr>\n",
       "    <tr>\n",
       "      <th>198</th>\n",
       "      <td>23</td>\n",
       "      <td>M</td>\n",
       "      <td>NORMAL</td>\n",
       "      <td>NORMAL</td>\n",
       "      <td>14.020</td>\n",
       "      <td>drugX</td>\n",
       "    </tr>\n",
       "    <tr>\n",
       "      <th>199</th>\n",
       "      <td>40</td>\n",
       "      <td>F</td>\n",
       "      <td>LOW</td>\n",
       "      <td>NORMAL</td>\n",
       "      <td>11.349</td>\n",
       "      <td>drugX</td>\n",
       "    </tr>\n",
       "  </tbody>\n",
       "</table>\n",
       "<p>200 rows × 6 columns</p>\n",
       "</div>"
      ],
      "text/plain": [
       "     Age Sex      BP Cholesterol  Na_to_K   Drug\n",
       "0     23   F    HIGH        HIGH   25.355  DrugY\n",
       "1     47   M     LOW        HIGH   13.093  drugC\n",
       "2     47   M     LOW        HIGH   10.114  drugC\n",
       "3     28   F  NORMAL        HIGH    7.798  drugX\n",
       "4     61   F     LOW        HIGH   18.043  DrugY\n",
       "..   ...  ..     ...         ...      ...    ...\n",
       "195   56   F     LOW        HIGH   11.567  drugC\n",
       "196   16   M     LOW        HIGH   12.006  drugC\n",
       "197   52   M  NORMAL        HIGH    9.894  drugX\n",
       "198   23   M  NORMAL      NORMAL   14.020  drugX\n",
       "199   40   F     LOW      NORMAL   11.349  drugX\n",
       "\n",
       "[200 rows x 6 columns]"
      ]
     },
     "execution_count": 286,
     "metadata": {},
     "output_type": "execute_result"
    }
   ],
   "source": [
    "df"
   ]
  },
  {
   "cell_type": "code",
   "execution_count": 287,
   "id": "5b41a060-2046-491d-bd3d-54835d19dfbf",
   "metadata": {},
   "outputs": [
    {
     "name": "stdout",
     "output_type": "stream",
     "text": [
      "Age            0\n",
      "Sex            0\n",
      "BP             0\n",
      "Cholesterol    0\n",
      "Na_to_K        0\n",
      "Drug           0\n",
      "dtype: int64\n"
     ]
    }
   ],
   "source": [
    "# checking for null values if any\n",
    "\n",
    "print(df.isnull().sum())"
   ]
  },
  {
   "cell_type": "code",
   "execution_count": 288,
   "id": "1373dd5e-2dc8-40d2-b49b-e5d7b2c8b813",
   "metadata": {},
   "outputs": [],
   "source": [
    "# there is no null values so we can go to next step\n",
    "# no columns to drop as all are valid data\n"
   ]
  },
  {
   "cell_type": "code",
   "execution_count": 289,
   "id": "bb728ae5-3bbe-400f-b351-35d624f87ca7",
   "metadata": {},
   "outputs": [],
   "source": [
    "# splitting the data set and performing one hot encoding \n",
    "x = dataset.drop(columns = ['Drug'],axis=1)\n",
    "y = dataset['Drug']"
   ]
  },
  {
   "cell_type": "code",
   "execution_count": 290,
   "id": "b5ee367f-638e-4482-a4df-f5479e2ae490",
   "metadata": {},
   "outputs": [],
   "source": [
    "x = pd.get_dummies(x,columns=['Sex','BP','Cholesterol'],drop_first = True)\n",
    "\n",
    "le = LabelEncoder()\n",
    "y = le.fit_transform(y)"
   ]
  },
  {
   "cell_type": "code",
   "execution_count": 291,
   "id": "82a641bc-1658-4982-8810-3c54898bd09f",
   "metadata": {},
   "outputs": [
    {
     "data": {
      "text/plain": [
       "((140, 6), (60, 6), (140,), (60,))"
      ]
     },
     "execution_count": 291,
     "metadata": {},
     "output_type": "execute_result"
    }
   ],
   "source": [
    "x_train, x_test, y_train, y_test = train_test_split (x,y,test_size=0.3,random_state=2)\n",
    "\n",
    "x_train.shape, x_test.shape, y_train.shape, y_test.shape"
   ]
  },
  {
   "cell_type": "code",
   "execution_count": 292,
   "id": "46218391-1793-47c1-bea5-89f8392eff9d",
   "metadata": {},
   "outputs": [],
   "source": [
    "# Now we are performing feature scaling \n",
    "\n",
    "sc = StandardScaler()\n",
    "\n",
    "x_train = sc.fit_transform(x_train)\n",
    "x_test = sc.fit_transform(x_test)\n",
    "\n",
    "y_train = keras.utils.to_categorical(y_train)\n",
    "y_test = keras.utils.to_categorical(y_test)"
   ]
  },
  {
   "cell_type": "code",
   "execution_count": 293,
   "id": "907aa10c-b85f-4db9-b285-ac246fa9bf0b",
   "metadata": {},
   "outputs": [],
   "source": [
    "# Model ---\n",
    "\n",
    "model = Sequential()\n",
    "\n",
    "# input layer\n",
    "model.add(Dense(48, input_dim=6, activation='relu'))\n",
    "\n",
    "# hidden layers (3)\n",
    "model.add(Dense(36, activation='relu'))\n",
    "model.add(Dense(24, activation='relu'))\n",
    "model.add(Dense(12, activation='relu'))\n",
    "\n",
    "# output layer\n",
    "output_layer = Dense(5,activation='softmax')\n",
    "model.add(output_layer)\n"
   ]
  },
  {
   "cell_type": "code",
   "execution_count": 294,
   "id": "add8c755-336c-41b3-b8ea-e181397673c8",
   "metadata": {},
   "outputs": [
    {
     "name": "stdout",
     "output_type": "stream",
     "text": [
      "Model: \"sequential_56\"\n",
      "_________________________________________________________________\n",
      " Layer (type)                Output Shape              Param #   \n",
      "=================================================================\n",
      " dense_248 (Dense)           (None, 48)                336       \n",
      "                                                                 \n",
      " dense_249 (Dense)           (None, 36)                1764      \n",
      "                                                                 \n",
      " dense_250 (Dense)           (None, 24)                888       \n",
      "                                                                 \n",
      " dense_251 (Dense)           (None, 12)                300       \n",
      "                                                                 \n",
      " dense_252 (Dense)           (None, 5)                 65        \n",
      "                                                                 \n",
      "=================================================================\n",
      "Total params: 3,353\n",
      "Trainable params: 3,353\n",
      "Non-trainable params: 0\n",
      "_________________________________________________________________\n"
     ]
    }
   ],
   "source": [
    "model.compile(loss='categorical_crossentropy', optimizer='adam', metrics=['accuracy'])\n",
    "model.summary()"
   ]
  },
  {
   "cell_type": "code",
   "execution_count": 299,
   "id": "e132b70b-d962-4394-bba0-7d51af3ad72f",
   "metadata": {},
   "outputs": [
    {
     "name": "stdout",
     "output_type": "stream",
     "text": [
      "Epoch 1/10\n",
      "24/24 [==============================] - 0s 2ms/step - loss: 1.5275e-04 - accuracy: 1.0000 - val_loss: 0.6293 - val_accuracy: 0.8667\n",
      "Epoch 2/10\n",
      "24/24 [==============================] - 0s 1ms/step - loss: 1.4826e-04 - accuracy: 1.0000 - val_loss: 0.6081 - val_accuracy: 0.8667\n",
      "Epoch 3/10\n",
      "24/24 [==============================] - 0s 894us/step - loss: 1.4912e-04 - accuracy: 1.0000 - val_loss: 0.6119 - val_accuracy: 0.8667\n",
      "Epoch 4/10\n",
      "24/24 [==============================] - 0s 838us/step - loss: 1.4239e-04 - accuracy: 1.0000 - val_loss: 0.6073 - val_accuracy: 0.8667\n",
      "Epoch 5/10\n",
      "24/24 [==============================] - 0s 866us/step - loss: 1.4166e-04 - accuracy: 1.0000 - val_loss: 0.6157 - val_accuracy: 0.8667\n",
      "Epoch 6/10\n",
      "24/24 [==============================] - 0s 890us/step - loss: 1.3306e-04 - accuracy: 1.0000 - val_loss: 0.6226 - val_accuracy: 0.8667\n",
      "Epoch 7/10\n",
      "24/24 [==============================] - 0s 846us/step - loss: 1.3371e-04 - accuracy: 1.0000 - val_loss: 0.6283 - val_accuracy: 0.8667\n",
      "Epoch 8/10\n",
      "24/24 [==============================] - 0s 829us/step - loss: 1.2821e-04 - accuracy: 1.0000 - val_loss: 0.6233 - val_accuracy: 0.8667\n",
      "Epoch 9/10\n",
      "24/24 [==============================] - 0s 854us/step - loss: 1.3032e-04 - accuracy: 1.0000 - val_loss: 0.6185 - val_accuracy: 0.8667\n",
      "Epoch 10/10\n",
      "24/24 [==============================] - 0s 831us/step - loss: 1.2227e-04 - accuracy: 1.0000 - val_loss: 0.5986 - val_accuracy: 0.8667\n"
     ]
    },
    {
     "data": {
      "text/plain": [
       "<keras.callbacks.History at 0x2c1200eb0>"
      ]
     },
     "execution_count": 299,
     "metadata": {},
     "output_type": "execute_result"
    }
   ],
   "source": [
    "model.fit(x_train, y_train, epochs=10, batch_size=6, validation_data=(x_test, y_test))"
   ]
  },
  {
   "cell_type": "code",
   "execution_count": 313,
   "id": "ce072536-0d3c-4ec8-88ae-70d9d16d7d25",
   "metadata": {},
   "outputs": [
    {
     "name": "stdout",
     "output_type": "stream",
     "text": [
      "2/2 [==============================] - 0s 2ms/step - loss: 0.5986 - accuracy: 0.8667\n"
     ]
    },
    {
     "data": {
      "text/plain": [
       "86.66666746139526"
      ]
     },
     "execution_count": 313,
     "metadata": {},
     "output_type": "execute_result"
    }
   ],
   "source": [
    "# testing model \n",
    "\n",
    "test_loss, test_acc = model.evaluate(x_test, y_test)\n",
    "test_acc * 100"
   ]
  },
  {
   "cell_type": "code",
   "execution_count": null,
   "id": "50c9ab3f-7135-464a-a6ef-41fb674af62c",
   "metadata": {},
   "outputs": [],
   "source": [
    "# end - 20MIS0321 --"
   ]
  }
 ],
 "metadata": {
  "kernelspec": {
   "display_name": "Python 3 (ipykernel)",
   "language": "python",
   "name": "python3"
  },
  "language_info": {
   "codemirror_mode": {
    "name": "ipython",
    "version": 3
   },
   "file_extension": ".py",
   "mimetype": "text/x-python",
   "name": "python",
   "nbconvert_exporter": "python",
   "pygments_lexer": "ipython3",
   "version": "3.10.11"
  }
 },
 "nbformat": 4,
 "nbformat_minor": 5
}
